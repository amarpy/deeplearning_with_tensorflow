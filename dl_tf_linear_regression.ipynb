{
 "cells": [
  {
   "cell_type": "code",
   "execution_count": 369,
   "metadata": {},
   "outputs": [],
   "source": [
    "import tensorflow as tf\n",
    "import numpy as np\n",
    "import matplotlib.pyplot as plt\n",
    "import pandas as pd\n",
    "%matplotlib inline\n",
    "plt.rcParams['figure.figsize'] = (15, 5)"
   ]
  },
  {
   "cell_type": "code",
   "execution_count": 381,
   "metadata": {},
   "outputs": [
    {
     "data": {
      "text/html": [
       "<div>\n",
       "<style>\n",
       "    .dataframe thead tr:only-child th {\n",
       "        text-align: right;\n",
       "    }\n",
       "\n",
       "    .dataframe thead th {\n",
       "        text-align: left;\n",
       "    }\n",
       "\n",
       "    .dataframe tbody tr th {\n",
       "        vertical-align: top;\n",
       "    }\n",
       "</style>\n",
       "<table border=\"1\" class=\"dataframe\">\n",
       "  <thead>\n",
       "    <tr style=\"text-align: right;\">\n",
       "      <th></th>\n",
       "      <th>Chirps</th>\n",
       "      <th>Temp</th>\n",
       "    </tr>\n",
       "  </thead>\n",
       "  <tbody>\n",
       "    <tr>\n",
       "      <th>0</th>\n",
       "      <td>20.0</td>\n",
       "      <td>88.6</td>\n",
       "    </tr>\n",
       "    <tr>\n",
       "      <th>1</th>\n",
       "      <td>16.0</td>\n",
       "      <td>71.6</td>\n",
       "    </tr>\n",
       "    <tr>\n",
       "      <th>2</th>\n",
       "      <td>19.8</td>\n",
       "      <td>93.3</td>\n",
       "    </tr>\n",
       "    <tr>\n",
       "      <th>3</th>\n",
       "      <td>18.4</td>\n",
       "      <td>84.3</td>\n",
       "    </tr>\n",
       "    <tr>\n",
       "      <th>4</th>\n",
       "      <td>17.1</td>\n",
       "      <td>80.6</td>\n",
       "    </tr>\n",
       "  </tbody>\n",
       "</table>\n",
       "</div>"
      ],
      "text/plain": [
       "   Chirps  Temp\n",
       "0    20.0  88.6\n",
       "1    16.0  71.6\n",
       "2    19.8  93.3\n",
       "3    18.4  84.3\n",
       "4    17.1  80.6"
      ]
     },
     "execution_count": 381,
     "metadata": {},
     "output_type": "execute_result"
    }
   ],
   "source": [
    "df = pd.read_csv('PierceCricketData.csv')\n",
    "df.head()"
   ]
  },
  {
   "cell_type": "code",
   "execution_count": 382,
   "metadata": {},
   "outputs": [
    {
     "name": "stdout",
     "output_type": "stream",
     "text": [
      "X: [ 20.   16.   19.8  18.4  17.1  15.5  14.7  17.1  15.4  16.2  15.   17.2\n",
      "  16.   17.   14.1]\n",
      "Y: [ 88.6  71.6  93.3  84.3  80.6  75.2  69.7  82.   69.4  83.3  78.6  82.6\n",
      "  80.6  83.5  76.3]\n"
     ]
    }
   ],
   "source": [
    "#get training data\n",
    "\n",
    "trainX, trainY = (df['Chirps'].values, df['Temp'].values)\n",
    "\n",
    "print('X:', trainX)\n",
    "print('Y:',trainY)"
   ]
  },
  {
   "cell_type": "code",
   "execution_count": 383,
   "metadata": {},
   "outputs": [
    {
     "data": {
      "text/plain": [
       "[<matplotlib.lines.Line2D at 0x17c3e49fdd8>]"
      ]
     },
     "execution_count": 383,
     "metadata": {},
     "output_type": "execute_result"
    },
    {
     "data": {
      "image/png": "[encoded data removed]",
      "text/plain": [
       "<matplotlib.figure.Figure at 0x17c42610f98>"
      ]
     },
     "metadata": {},
     "output_type": "display_data"
    }
   ],
   "source": [
    "plt.xlabel(\"# of chirps per 15 sec\")\n",
    "plt.ylabel(\"Temp in Farenheit\")\n",
    "plt.plot(trainX, trainY, 'o')"
   ]
  },
  {
   "cell_type": "code",
   "execution_count": 373,
   "metadata": {},
   "outputs": [],
   "source": [
    "#Create placeholders\n",
    "\n",
    "X, Y = tf.placeholder(tf.float32), tf.placeholder(tf.float32)\n",
    "W, b = tf.Variable(np.random.randn()), tf.Variable(np.random.randn())"
   ]
  },
  {
   "cell_type": "code",
   "execution_count": 374,
   "metadata": {},
   "outputs": [],
   "source": [
    "#Activation function\n",
    "\n",
    "Ypred = tf.add(tf.multiply(X, W), b)"
   ]
  },
  {
   "cell_type": "code",
   "execution_count": 391,
   "metadata": {},
   "outputs": [
    {
     "name": "stdout",
     "output_type": "stream",
     "text": [
      "( 20.0 , 14.759 )\n",
      "( 16.0 , 11.4942 )\n",
      "( 19.8 , 14.5958 )\n",
      "( 18.4 , 13.4531 )\n",
      "( 17.1 , 12.392 )\n",
      "( 15.5 , 11.0861 )\n",
      "( 14.7 , 10.4331 )\n",
      "( 17.1 , 12.392 )\n",
      "( 15.4 , 11.0044 )\n",
      "( 16.2 , 11.6574 )\n",
      "( 15.0 , 10.6779 )\n",
      "( 17.2 , 12.4736 )\n",
      "( 16.0 , 11.4942 )\n",
      "( 17.0 , 12.3104 )\n",
      "( 14.1 , 9.94335 )\n"
     ]
    },
    {
     "data": {
      "image/png": "[encoded data removed]",
      "text/plain": [
       "<matplotlib.figure.Figure at 0x17c428fd198>"
      ]
     },
     "metadata": {},
     "output_type": "display_data"
    }
   ],
   "source": [
    "#initial linear model\n",
    "\n",
    "with tf.Session() as session:\n",
    "    session.run(tf.global_variables_initializer())\n",
    "    pred = session.run(Ypred, feed_dict = {X:trainX})\n",
    "    for (x, y) in zip(trainX, pred):\n",
    "        print('(',x, ',', y, ')')\n",
    "    plt.xlabel(\"# of chirps per 15 sec\")\n",
    "    plt.ylabel(\"Temp in Farenheit\")\n",
    "    plt.plot(trainX, trainX, \"o\")\n",
    "    plt.plot(trainX, pred)"
   ]
  },
  {
   "cell_type": "code",
   "execution_count": 376,
   "metadata": {},
   "outputs": [],
   "source": [
    "#training cycles / epochs, learning rate, display step size\n",
    "\n",
    "training_cycles = 1000\n",
    "learning_rate = 0.001\n",
    "step_size = 50\n",
    "\n",
    "# loss function = mean squared difference error \n",
    "loss = tf.reduce_mean(tf.squared_difference(Ypred, Y))\n",
    "\n",
    "#train with gradient descent optimizer for minimizing loss\n",
    "optimizer = tf.train.GradientDescentOptimizer(learning_rate).minimize(loss)"
   ]
  },
  {
   "cell_type": "code",
   "execution_count": 379,
   "metadata": {},
   "outputs": [
    {
     "name": "stdout",
     "output_type": "stream",
     "text": [
      "Step: 0000 W= 3.09069 b= -1.42943 loss= 912.367431641\n",
      "Step: 0050 W= 4.86955 b= -1.29618 loss= 20.116130829\n",
      "Step: 0100 W= 4.86793 b= -1.26893 loss= 20.101243973\n",
      "Step: 0150 W= 4.86631 b= -1.24172 loss= 20.086362839\n",
      "Step: 0200 W= 4.86469 b= -1.21452 loss= 20.071529388\n",
      "Step: 0250 W= 4.86308 b= -1.18736 loss= 20.056722641\n",
      "Step: 0300 W= 4.86146 b= -1.16022 loss= 20.041940689\n",
      "Step: 0350 W= 4.85985 b= -1.13311 loss= 20.027187347\n",
      "Step: 0400 W= 4.85824 b= -1.10603 loss= 20.012462616\n",
      "Step: 0450 W= 4.85663 b= -1.07897 loss= 19.997770309\n",
      "Step: 0500 W= 4.85502 b= -1.05194 loss= 19.983106613\n",
      "Step: 0550 W= 4.85341 b= -1.02494 loss= 19.968477249\n",
      "Step: 0600 W= 4.8518 b= -0.997965 loss= 19.953866959\n",
      "Step: 0650 W= 4.8502 b= -0.971016 loss= 19.939287186\n",
      "Step: 0700 W= 4.8486 b= -0.944094 loss= 19.924739838\n",
      "Step: 0750 W= 4.847 b= -0.9172 loss= 19.910215378\n",
      "Step: 0800 W= 4.8454 b= -0.890332 loss= 19.895732880\n",
      "Step: 0850 W= 4.8438 b= -0.863491 loss= 19.881275177\n",
      "Step: 0900 W= 4.8422 b= -0.836677 loss= 19.866849899\n",
      "Step: 0950 W= 4.84061 b= -0.809889 loss= 19.852451324\n",
      "\n",
      "Optimization done!\n",
      "Your linear model is:\n",
      "W= 4.83905 b= -0.783663 loss= 19.8384 \n",
      "\n"
     ]
    },
    {
     "data": {
      "image/png": "[encoded data removed]",
      "text/plain": [
       "<matplotlib.figure.Figure at 0x17c4263e2e8>"
      ]
     },
     "metadata": {},
     "output_type": "display_data"
    }
   ],
   "source": [
    "with tf.Session() as sess:\n",
    "    sess.run(tf.global_variables_initializer())\n",
    "    cost = []\n",
    "    for step in range(training_cycles):\n",
    "        sess.run(optimizer, feed_dict={X: trainX, Y: trainY})\n",
    "        if step % step_size == 0:\n",
    "            losses = sess.run(loss, feed_dict={X: trainX, Y:trainY})\n",
    "            cost.append(losses)\n",
    "            print (\"Step:\", '%04d' % step, \"W=\", sess.run(W), \"b=\", sess.run(b), \"loss=\", \"{:.9f}\".format(losses))\n",
    "                \n",
    "    print (\"\\nOptimization done!\")\n",
    "    print(\"Your linear model is:\" )\n",
    "    training_cost = sess.run(loss, feed_dict={X: trainX, Y: trainY})\n",
    "    print ( \"W=\", sess.run(W), \"b=\", sess.run(b), \"loss=\", training_cost, '\\n')\n",
    "\n",
    "    #plot display\n",
    "    \n",
    "    plt.xlabel(\"# of chirps per 15 sec\")\n",
    "    plt.ylabel(\"Temp in Farenheit\")\n",
    "    plt.plot(trainX, trainY, 'o', label='Original data')\n",
    "    plt.plot(trainX, sess.run(W) * trainX + sess.run(b), label='Linear model')\n",
    "    plt.legend()"
   ]
  },
  {
   "cell_type": "code",
   "execution_count": 380,
   "metadata": {},
   "outputs": [
    {
     "data": {
      "text/plain": [
       "<matplotlib.legend.Legend at 0x17c425defd0>"
      ]
     },
     "execution_count": 380,
     "metadata": {},
     "output_type": "execute_result"
    },
    {
     "data": {
      "image/png": "[encoded data removed]",
      "text/plain": [
       "<matplotlib.figure.Figure at 0x17c42616278>"
      ]
     },
     "metadata": {},
     "output_type": "display_data"
    }
   ],
   "source": [
    "plt.ylabel(\"Loss\")\n",
    "plt.plot(cost, label = 'Loss function')\n",
    "plt.legend()"
   ]
  },
  {
   "cell_type": "code",
   "execution_count": null,
   "metadata": {},
   "outputs": [],
   "source": []
  },
  {
   "cell_type": "code",
   "execution_count": null,
   "metadata": {},
   "outputs": [],
   "source": []
  }
 ],
 "metadata": {
  "kernelspec": {
   "display_name": "Python 3",
   "language": "python",
   "name": "python3"
  },
  "language_info": {
   "codemirror_mode": {
    "name": "ipython",
    "version": 3
   },
   "file_extension": ".py",
   "mimetype": "text/x-python",
   "name": "python",
   "nbconvert_exporter": "python",
   "pygments_lexer": "ipython3",
   "version": "3.6.3"
  }
 },
 "nbformat": 4,
 "nbformat_minor": 2
}
