{
 "cells": [
  {
   "cell_type": "code",
   "execution_count": 406,
   "metadata": {},
   "outputs": [],
   "source": [
    "import tensorflow as tf\n",
    "import numpy as np\n",
    "import matplotlib.pyplot as plt\n",
    "import pandas as pd\n",
    "%matplotlib inline\n",
    "plt.rcParams['figure.figsize'] = (15, 5)"
   ]
  },
  {
   "cell_type": "code",
   "execution_count": 407,
   "metadata": {},
   "outputs": [
    {
     "data": {
      "text/html": [
       "<div>\n",
       "<style>\n",
       "    .dataframe thead tr:only-child th {\n",
       "        text-align: right;\n",
       "    }\n",
       "\n",
       "    .dataframe thead th {\n",
       "        text-align: left;\n",
       "    }\n",
       "\n",
       "    .dataframe tbody tr th {\n",
       "        vertical-align: top;\n",
       "    }\n",
       "</style>\n",
       "<table border=\"1\" class=\"dataframe\">\n",
       "  <thead>\n",
       "    <tr style=\"text-align: right;\">\n",
       "      <th></th>\n",
       "      <th>Chirps</th>\n",
       "      <th>Temp</th>\n",
       "    </tr>\n",
       "  </thead>\n",
       "  <tbody>\n",
       "    <tr>\n",
       "      <th>0</th>\n",
       "      <td>20.0</td>\n",
       "      <td>88.6</td>\n",
       "    </tr>\n",
       "    <tr>\n",
       "      <th>1</th>\n",
       "      <td>16.0</td>\n",
       "      <td>71.6</td>\n",
       "    </tr>\n",
       "    <tr>\n",
       "      <th>2</th>\n",
       "      <td>19.8</td>\n",
       "      <td>93.3</td>\n",
       "    </tr>\n",
       "    <tr>\n",
       "      <th>3</th>\n",
       "      <td>18.4</td>\n",
       "      <td>84.3</td>\n",
       "    </tr>\n",
       "    <tr>\n",
       "      <th>4</th>\n",
       "      <td>17.1</td>\n",
       "      <td>80.6</td>\n",
       "    </tr>\n",
       "  </tbody>\n",
       "</table>\n",
       "</div>"
      ],
      "text/plain": [
       "   Chirps  Temp\n",
       "0    20.0  88.6\n",
       "1    16.0  71.6\n",
       "2    19.8  93.3\n",
       "3    18.4  84.3\n",
       "4    17.1  80.6"
      ]
     },
     "execution_count": 407,
     "metadata": {},
     "output_type": "execute_result"
    }
   ],
   "source": [
    "df = pd.read_csv('PierceCricketData.csv')\n",
    "df.head()"
   ]
  },
  {
   "cell_type": "code",
   "execution_count": 408,
   "metadata": {},
   "outputs": [
    {
     "name": "stdout",
     "output_type": "stream",
     "text": [
      "X: [ 20.   16.   19.8  18.4  17.1  15.5  14.7  17.1  15.4  16.2  15.   17.2\n",
      "  16.   17.   14.1]\n",
      "Y: [ 88.6  71.6  93.3  84.3  80.6  75.2  69.7  82.   69.4  83.3  78.6  82.6\n",
      "  80.6  83.5  76.3]\n"
     ]
    }
   ],
   "source": [
    "#get training data\n",
    "\n",
    "trainX, trainY = (df['Chirps'].values, df['Temp'].values)\n",
    "\n",
    "print('X:', trainX)\n",
    "print('Y:',trainY)"
   ]
  },
  {
   "cell_type": "code",
   "execution_count": 409,
   "metadata": {},
   "outputs": [
    {
     "data": {
      "text/plain": [
       "[<matplotlib.lines.Line2D at 0x17c40dff2e8>]"
      ]
     },
     "execution_count": 409,
     "metadata": {},
     "output_type": "execute_result"
    },
    {
     "data": {
      "image/png": "[encoded data removed]",
      "text/plain": [
       "<matplotlib.figure.Figure at 0x17c3fc5b128>"
      ]
     },
     "metadata": {},
     "output_type": "display_data"
    }
   ],
   "source": [
    "plt.xlabel(\"# of chirps per 15 sec\")\n",
    "plt.ylabel(\"Temp in Farenheit\")\n",
    "plt.plot(trainX, trainY, 'o')"
   ]
  },
  {
   "cell_type": "code",
   "execution_count": 410,
   "metadata": {},
   "outputs": [],
   "source": [
    "#Create placeholders\n",
    "\n",
    "X, Y = tf.placeholder(tf.float32), tf.placeholder(tf.float32)\n",
    "W, b = tf.Variable(np.random.randn()), tf.Variable(np.random.randn())"
   ]
  },
  {
   "cell_type": "code",
   "execution_count": 411,
   "metadata": {},
   "outputs": [],
   "source": [
    "#Activation function\n",
    "\n",
    "Ypred = tf.add(tf.multiply(X, W), b)"
   ]
  },
  {
   "cell_type": "code",
   "execution_count": 412,
   "metadata": {},
   "outputs": [
    {
     "name": "stdout",
     "output_type": "stream",
     "text": [
      "( 20.0 , -38.1125 )\n",
      "( 16.0 , -30.5536 )\n",
      "( 19.8 , -37.7346 )\n",
      "( 18.4 , -35.0889 )\n",
      "( 17.1 , -32.6323 )\n",
      "( 15.5 , -29.6087 )\n",
      "( 14.7 , -28.0969 )\n",
      "( 17.1 , -32.6323 )\n",
      "( 15.4 , -29.4198 )\n",
      "( 16.2 , -30.9315 )\n",
      "( 15.0 , -28.6639 )\n",
      "( 17.2 , -32.8213 )\n",
      "( 16.0 , -30.5536 )\n",
      "( 17.0 , -32.4433 )\n",
      "( 14.1 , -26.9631 )\n"
     ]
    },
    {
     "data": {
      "image/png": "[encoded data removed]",
      "text/plain": [
       "<matplotlib.figure.Figure at 0x17c3facc5f8>"
      ]
     },
     "metadata": {},
     "output_type": "display_data"
    }
   ],
   "source": [
    "#initial linear model\n",
    "\n",
    "with tf.Session() as session:\n",
    "    session.run(tf.global_variables_initializer())\n",
    "    pred = session.run(Ypred, feed_dict = {X:trainX})\n",
    "    for (x, y) in zip(trainX, pred):\n",
    "        print('(',x, ',', y, ')')\n",
    "    plt.xlabel(\"# of chirps per 15 sec\")\n",
    "    plt.ylabel(\"Temp in Farenheit\")\n",
    "    plt.plot(trainX, trainX, \"o\")\n",
    "    plt.plot(trainX, pred)"
   ]
  },
  {
   "cell_type": "code",
   "execution_count": 413,
   "metadata": {},
   "outputs": [],
   "source": [
    "#training cycles / epochs, learning rate, display step size\n",
    "\n",
    "training_cycles = 1000\n",
    "learning_rate = 0.001\n",
    "step_size = 50\n",
    "\n",
    "# loss function = mean squared difference error \n",
    "loss = tf.reduce_mean(tf.squared_difference(Ypred, Y))\n",
    "\n",
    "#train with gradient descent optimizer for minimizing loss\n",
    "optimizer = tf.train.GradientDescentOptimizer(learning_rate).minimize(loss)"
   ]
  },
  {
   "cell_type": "code",
   "execution_count": 414,
   "metadata": {},
   "outputs": [
    {
     "name": "stdout",
     "output_type": "stream",
     "text": [
      "Training cycle:  0 \t W=  1.85569 \t b=  -0.0944649 \t loss=  2438.824951172\n",
      "Training cycle: 50 \t W=  4.7861 \t b=  0.105918 \t loss=  19.368717194\n",
      "Training cycle: 100 \t W=  4.78456 \t b=  0.131765 \t loss=  19.355306625\n",
      "Training cycle: 150 \t W=  4.78303 \t b=  0.157587 \t loss=  19.341922760\n",
      "Training cycle: 200 \t W=  4.78149 \t b=  0.183382 \t loss=  19.328578949\n",
      "Training cycle: 250 \t W=  4.77996 \t b=  0.209152 \t loss=  19.315242767\n",
      "Training cycle: 300 \t W=  4.77842 \t b=  0.234896 \t loss=  19.301935196\n",
      "Training cycle: 350 \t W=  4.77689 \t b=  0.260614 \t loss=  19.288667679\n",
      "Training cycle: 400 \t W=  4.77536 \t b=  0.286307 \t loss=  19.275413513\n",
      "Training cycle: 450 \t W=  4.77384 \t b=  0.311974 \t loss=  19.262189865\n",
      "Training cycle: 500 \t W=  4.77231 \t b=  0.337615 \t loss=  19.248994827\n",
      "Training cycle: 550 \t W=  4.77079 \t b=  0.363231 \t loss=  19.235828400\n",
      "Training cycle: 600 \t W=  4.76926 \t b=  0.388822 \t loss=  19.222681046\n",
      "Training cycle: 650 \t W=  4.76774 \t b=  0.414387 \t loss=  19.209558487\n",
      "Training cycle: 700 \t W=  4.76622 \t b=  0.439927 \t loss=  19.196466446\n",
      "Training cycle: 750 \t W=  4.7647 \t b=  0.465441 \t loss=  19.183410645\n",
      "Training cycle: 800 \t W=  4.76319 \t b=  0.490929 \t loss=  19.170362473\n",
      "Training cycle: 850 \t W=  4.76167 \t b=  0.516392 \t loss=  19.157356262\n",
      "Training cycle: 900 \t W=  4.76016 \t b=  0.54183 \t loss=  19.144367218\n",
      "Training cycle: 950 \t W=  4.75864 \t b=  0.567242 \t loss=  19.131412506\n",
      "\n",
      "Optimization done!\n",
      "Your linear model is:\n",
      "W= 4.75716 \t b= 0.592121 \t loss= 19.1187 \n",
      "\n"
     ]
    },
    {
     "data": {
      "image/png": "[encoded data removed]",
      "text/plain": [
       "<matplotlib.figure.Figure at 0x17c41f53828>"
      ]
     },
     "metadata": {},
     "output_type": "display_data"
    }
   ],
   "source": [
    "with tf.Session() as sess:\n",
    "    sess.run(tf.global_variables_initializer())\n",
    "    cost = []\n",
    "    for step in range(training_cycles):\n",
    "        sess.run(optimizer, feed_dict={X: trainX, Y: trainY})\n",
    "        if step % step_size == 0:\n",
    "            losses = sess.run(loss, feed_dict={X: trainX, Y:trainY})\n",
    "            cost.append(losses)\n",
    "            print (\"Training cycle:\", '{:2d}'.format(step),\n",
    "                   \"\\t W= \", sess.run(W), \n",
    "                   \"\\t b= \", sess.run(b), \n",
    "                   \"\\t loss= \", \"{:.9f}\".format(losses))\n",
    "                \n",
    "    print (\"\\nOptimization done!\")\n",
    "    print(\"Your linear model is:\" )\n",
    "    training_cost = sess.run(loss, feed_dict={X: trainX, Y: trainY})\n",
    "    print ( \"W=\", sess.run(W), \n",
    "           \"\\t b=\", sess.run(b), \n",
    "           \"\\t loss=\", training_cost, '\\n')\n",
    "\n",
    "    #plot display\n",
    "    \n",
    "    plt.xlabel(\"# of chirps per 15 sec\")\n",
    "    plt.ylabel(\"Temp in Farenheit\")\n",
    "    plt.plot(trainX, trainY, 'o', label='Original data')\n",
    "    plt.plot(trainX, sess.run(W) * trainX + sess.run(b), label='Linear model')\n",
    "    plt.legend()"
   ]
  },
  {
   "cell_type": "code",
   "execution_count": 415,
   "metadata": {},
   "outputs": [
    {
     "data": {
      "text/plain": [
       "<matplotlib.legend.Legend at 0x17c40e04e10>"
      ]
     },
     "execution_count": 415,
     "metadata": {},
     "output_type": "execute_result"
    },
    {
     "data": {
      "image/png": "[encoded data removed]",
      "text/plain": [
       "<matplotlib.figure.Figure at 0x17c40e1ae48>"
      ]
     },
     "metadata": {},
     "output_type": "display_data"
    }
   ],
   "source": [
    "plt.ylabel(\"Loss\")\n",
    "plt.plot(cost, label = 'Loss function')\n",
    "plt.legend()"
   ]
  },
  {
   "cell_type": "code",
   "execution_count": null,
   "metadata": {},
   "outputs": [],
   "source": []
  },
  {
   "cell_type": "code",
   "execution_count": null,
   "metadata": {},
   "outputs": [],
   "source": []
  }
 ],
 "metadata": {
  "kernelspec": {
   "display_name": "Python 3",
   "language": "python",
   "name": "python3"
  },
  "language_info": {
   "codemirror_mode": {
    "name": "ipython",
    "version": 3
   },
   "file_extension": ".py",
   "mimetype": "text/x-python",
   "name": "python",
   "nbconvert_exporter": "python",
   "pygments_lexer": "ipython3",
   "version": "3.6.3"
  }
 },
 "nbformat": 4,
 "nbformat_minor": 2
}
