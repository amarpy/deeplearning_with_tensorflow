{
 "cells": [
  {
   "cell_type": "code",
   "execution_count": 438,
   "metadata": {},
   "outputs": [],
   "source": [
    "%matplotlib inline\n",
    "import tensorflow as tf\n",
    "import pandas as pd\n",
    "import numpy as np\n",
    "from sklearn.datasets import load_iris\n",
    "from sklearn.model_selection import train_test_split\n",
    "import matplotlib.pyplot as plt"
   ]
  },
  {
   "cell_type": "code",
   "execution_count": 439,
   "metadata": {},
   "outputs": [
    {
     "name": "stdout",
     "output_type": "stream",
     "text": [
      "Shape of trainX:  (100, 4)\n",
      "Shape of testX:  (50, 4)\n",
      "Shape of trainY:  (100, 3)\n",
      "Shape of testY:  (50, 3)\n",
      "Number of features in training set:  4\n",
      "Number of labels in training set:  3\n"
     ]
    }
   ],
   "source": [
    "iris = load_iris()\n",
    "irisX = iris.data\n",
    "irisY = iris.target\n",
    "irisY = pd.get_dummies(irisY).values  #use pd.get_dummies() to convert categorical variable into dummy/indicator variables\n",
    "trainX, testX, trainY, testY = train_test_split(irisX, \n",
    "                                                irisY, \n",
    "                                                test_size = 0.33,\n",
    "                                                random_state = 42)\n",
    "\n",
    "print(\"Shape of trainX: \", trainX.shape)\n",
    "print(\"Shape of testX: \", testX.shape)\n",
    "print(\"Shape of trainY: \", trainY.shape)\n",
    "print(\"Shape of testY: \", testY.shape)\n",
    "\n",
    "numFeatures = trainX.shape[1]\n",
    "numLabels = trainY.shape[1]\n",
    "\n",
    "print(\"Number of features in training set: \", numFeatures)\n",
    "print(\"Number of labels in training set: \", numLabels)"
   ]
  },
  {
   "cell_type": "code",
   "execution_count": 440,
   "metadata": {},
   "outputs": [],
   "source": [
    "#placeholders\n",
    "\n",
    "X = tf.placeholder(tf.float64, [None, numFeatures])\n",
    "Y = tf.placeholder(tf.float64, [None, numLabels])"
   ]
  },
  {
   "cell_type": "code",
   "execution_count": 441,
   "metadata": {},
   "outputs": [],
   "source": [
    "#randomly sampled weights and bias with mean = 0 and stddev = 0.01\n",
    "\n",
    "mean, stddev = 0, 0.01\n",
    "\n",
    "W = tf.Variable(np.random.normal(mean, stddev, (numFeatures, numLabels)))\n",
    "b = tf.Variable(np.random.normal(mean, stddev, (1, numLabels)))"
   ]
  },
  {
   "cell_type": "code",
   "execution_count": 442,
   "metadata": {},
   "outputs": [],
   "source": [
    "#activation; sigmoid function\n",
    "\n",
    "predY = tf.sigmoid(tf.add(tf.matmul(X, W), b))"
   ]
  },
  {
   "cell_type": "code",
   "execution_count": 443,
   "metadata": {},
   "outputs": [],
   "source": [
    "training_cycles = 1000\n",
    "learning_rate = 0.0001\n",
    "\n",
    "#loss funtion is l2-loss\n",
    "\n",
    "loss_op = tf.nn.l2_loss(predY - Y)\n",
    "optimizer_op = tf.train.GradientDescentOptimizer(learningRate).minimize(loss_op)"
   ]
  },
  {
   "cell_type": "code",
   "execution_count": 444,
   "metadata": {},
   "outputs": [],
   "source": [
    "#accuracy metrics\n",
    "\n",
    "accuracy, accuracy_op = tf.metrics.accuracy(tf.argmax(Y, 1), tf.argmax(predY, 1))"
   ]
  },
  {
   "cell_type": "code",
   "execution_count": 445,
   "metadata": {},
   "outputs": [],
   "source": [
    "#initialize variables\n",
    "\n",
    "sess = tf.Session()\n",
    "init_global_op = tf.global_variables_initializer()\n",
    "init_local_op = tf.local_variables_initializer()\n",
    "sess.run(init_global_op)\n",
    "sess.run(init_local_op)"
   ]
  },
  {
   "cell_type": "code",
   "execution_count": 446,
   "metadata": {},
   "outputs": [
    {
     "name": "stdout",
     "output_type": "stream",
     "text": [
      "Step: 0, Loss: 34.760679, Change in Loss: 34.760679, Accuracy: 0.340000\n",
      "Step: 50, Loss: 24.234664, Change in Loss: 10.526014, Accuracy: 0.495000\n",
      "Step: 100, Loss: 20.738235, Change in Loss: 3.496430, Accuracy: 0.546667\n",
      "Step: 150, Loss: 19.057055, Change in Loss: 1.681179, Accuracy: 0.577500\n",
      "Step: 200, Loss: 18.055725, Change in Loss: 1.001330, Accuracy: 0.606000\n",
      "Step: 250, Loss: 17.365940, Change in Loss: 0.689785, Accuracy: 0.633333\n",
      "Step: 300, Loss: 16.843810, Change in Loss: 0.522130, Accuracy: 0.655714\n",
      "Step: 350, Loss: 16.423347, Change in Loss: 0.420463, Accuracy: 0.675000\n",
      "Step: 400, Loss: 16.070361, Change in Loss: 0.352986, Accuracy: 0.692222\n",
      "Step: 450, Loss: 15.765378, Change in Loss: 0.304983, Accuracy: 0.709000\n",
      "Step: 500, Loss: 15.496435, Change in Loss: 0.268944, Accuracy: 0.725455\n",
      "Step: 550, Loss: 15.255707, Change in Loss: 0.240728, Accuracy: 0.739167\n",
      "Step: 600, Loss: 15.037808, Change in Loss: 0.217899, Accuracy: 0.751538\n",
      "Step: 650, Loss: 14.838863, Change in Loss: 0.198945, Accuracy: 0.762857\n",
      "Step: 700, Loss: 14.655980, Change in Loss: 0.182884, Accuracy: 0.772667\n",
      "Step: 750, Loss: 14.486929, Change in Loss: 0.169050, Accuracy: 0.781250\n",
      "Step: 800, Loss: 14.329950, Change in Loss: 0.156979, Accuracy: 0.788824\n",
      "Step: 850, Loss: 14.183618, Change in Loss: 0.146332, Accuracy: 0.796111\n",
      "Step: 900, Loss: 14.046759, Change in Loss: 0.136859, Accuracy: 0.803158\n",
      "Step: 950, Loss: 13.918392, Change in Loss: 0.128368, Accuracy: 0.809500\n",
      "Step: 1000, Loss: 13.797682, Change in Loss: 0.120710, Accuracy: 0.815238\n"
     ]
    }
   ],
   "source": [
    "#training\n",
    "    \n",
    "loss = 0\n",
    "diff = 1\n",
    "epoch_values = []\n",
    "accuracy_values = []\n",
    "loss_values = []\n",
    "\n",
    "for i in range(training_cycles + 1):\n",
    "    if i > 1 and diff < 0.0001:\n",
    "        print(\"change in cost {0}; convergence.\".format(diff))\n",
    "        break\n",
    "    else:\n",
    "        newPred = sess.run(optimizer_op, feed_dict = {X: trainX, Y: trainY})\n",
    "        if i % 50 == 0:\n",
    "            epoch_values.append(i)\n",
    "            train_accuracy = sess.run(accuracy_op, feed_dict = {X: trainX, Y: trainY})\n",
    "            accuracy_values.append(train_accuracy)\n",
    "            newLoss = sess.run(loss_op, feed_dict = {X: trainX, Y: trainY})\n",
    "            loss_values.append(newLoss)\n",
    "\n",
    "            diff = abs(newLoss - loss)\n",
    "            loss = newLoss\n",
    "            print(\"Step: {0}, Loss: {1:.6f}, Change in Loss: {2:.6f}, Accuracy: {3:.6f}\".format(i, \n",
    "                                                                                    newLoss, \n",
    "                                                                                    diff, \n",
    "                                                                                    train_accuracy))"
   ]
  },
  {
   "cell_type": "code",
   "execution_count": 447,
   "metadata": {},
   "outputs": [
    {
     "name": "stdout",
     "output_type": "stream",
     "text": [
      "Final accuracy on test set: 0.819070\n"
     ]
    }
   ],
   "source": [
    "print(\"Final accuracy on test set: {0:.6f}\" .format(sess.run(accuracy_op, \n",
    "                                                 feed_dict={X: testX, \n",
    "                                                            Y: testY})))"
   ]
  },
  {
   "cell_type": "code",
   "execution_count": 448,
   "metadata": {},
   "outputs": [
    {
     "data": {
      "text/plain": [
       "Text(0,0.5,'loss')"
      ]
     },
     "execution_count": 448,
     "metadata": {},
     "output_type": "execute_result"
    },
    {
     "data": {
      "image/png": "[encoded data removed]",
      "text/plain": [
       "<matplotlib.figure.Figure at 0x21c26c7dba8>"
      ]
     },
     "metadata": {},
     "output_type": "display_data"
    }
   ],
   "source": [
    "plt.plot(loss_values)\n",
    "plt.ylabel(\"loss\")"
   ]
  },
  {
   "cell_type": "code",
   "execution_count": 449,
   "metadata": {},
   "outputs": [
    {
     "data": {
      "text/plain": [
       "Text(0,0.5,'accuracy')"
      ]
     },
     "execution_count": 449,
     "metadata": {},
     "output_type": "execute_result"
    },
    {
     "data": {
      "image/png": "[encoded data removed]",
      "text/plain": [
       "<matplotlib.figure.Figure at 0x21c26da19e8>"
      ]
     },
     "metadata": {},
     "output_type": "display_data"
    }
   ],
   "source": [
    "plt.plot(accuracy_values)\n",
    "plt.ylabel(\"accuracy\")"
   ]
  }
 ],
 "metadata": {
  "kernelspec": {
   "display_name": "Python 3",
   "language": "python",
   "name": "python3"
  },
  "language_info": {
   "codemirror_mode": {
    "name": "ipython",
    "version": 3
   },
   "file_extension": ".py",
   "mimetype": "text/x-python",
   "name": "python",
   "nbconvert_exporter": "python",
   "pygments_lexer": "ipython3",
   "version": "3.6.3"
  }
 },
 "nbformat": 4,
 "nbformat_minor": 2
}
