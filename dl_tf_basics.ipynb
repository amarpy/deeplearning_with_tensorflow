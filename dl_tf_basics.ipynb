{
 "cells": [
  {
   "cell_type": "markdown",
   "metadata": {},
   "source": [
    "# Tensorflow Basics"
   ]
  },
  {
   "cell_type": "code",
   "execution_count": 67,
   "metadata": {},
   "outputs": [],
   "source": [
    "import tensorflow as tf"
   ]
  },
  {
   "cell_type": "markdown",
   "metadata": {},
   "source": [
    "Tensorflow works on graph computational model where graphs are created and executed as follows:\n",
    "    1. Define edges (sources)\n",
    "    2. Define nodes (computations)\n",
    "    3. Start session to build graph"
   ]
  },
  {
   "cell_type": "markdown",
   "metadata": {},
   "source": [
    "Source operations or **source ops** do not need any information input. They pass information to other operations which perform computations. \n",
    "\n",
    "The following source op defines two constants."
   ]
  },
  {
   "cell_type": "code",
   "execution_count": 68,
   "metadata": {},
   "outputs": [],
   "source": [
    "a = tf.constant([2])\n",
    "b = tf.constant([3])"
   ]
  },
  {
   "cell_type": "markdown",
   "metadata": {},
   "source": [
    "Computational nodes perform operations on source ops. We define a node **c** which adds **a** and **b**."
   ]
  },
  {
   "cell_type": "code",
   "execution_count": 69,
   "metadata": {},
   "outputs": [],
   "source": [
    "c = tf.add(a, b)"
   ]
  },
  {
   "cell_type": "markdown",
   "metadata": {},
   "source": [
    "We initialize a session to start the graph and run the nodes withing the session."
   ]
  },
  {
   "cell_type": "code",
   "execution_count": 70,
   "metadata": {},
   "outputs": [],
   "source": [
    "session = tf.Session()"
   ]
  },
  {
   "cell_type": "code",
   "execution_count": 71,
   "metadata": {},
   "outputs": [],
   "source": [
    "result = session.run(c)"
   ]
  },
  {
   "cell_type": "code",
   "execution_count": 72,
   "metadata": {},
   "outputs": [
    {
     "name": "stdout",
     "output_type": "stream",
     "text": [
      "[5] <class 'numpy.ndarray'>\n"
     ]
    }
   ],
   "source": [
    "print(result, type(result))"
   ]
  },
  {
   "cell_type": "markdown",
   "metadata": {},
   "source": [
    "Sessions need to be closed after the graph is built to release resources."
   ]
  },
  {
   "cell_type": "code",
   "execution_count": 73,
   "metadata": {},
   "outputs": [],
   "source": [
    "session.close()"
   ]
  },
  {
   "cell_type": "markdown",
   "metadata": {},
   "source": [
    "**with** statement can be used to perform the session initialize and close within a code block."
   ]
  },
  {
   "cell_type": "code",
   "execution_count": 74,
   "metadata": {},
   "outputs": [
    {
     "name": "stdout",
     "output_type": "stream",
     "text": [
      "[5] <class 'numpy.ndarray'>\n"
     ]
    }
   ],
   "source": [
    "with tf.Session() as session:\n",
    "    result = session.run(c)\n",
    "    print(result, type(result))"
   ]
  },
  {
   "cell_type": "markdown",
   "metadata": {},
   "source": [
    "## Tensors"
   ]
  },
  {
   "cell_type": "markdown",
   "metadata": {},
   "source": [
    "**Tensors are 3-dimensional nd-arrays**.\n",
    "\n",
    "1-d : scalar\n",
    "\n",
    "2-d : vector\n",
    "\n",
    "3-d : matrix\n",
    "\n",
    "**4-d : tensor**"
   ]
  },
  {
   "cell_type": "code",
   "execution_count": 75,
   "metadata": {},
   "outputs": [
    {
     "name": "stdout",
     "output_type": "stream",
     "text": [
      "Scalar (1 entry): \n",
      " [2] \n",
      " Tensor(\"Const_15:0\", shape=(1,), dtype=int32) \n",
      "\n",
      "Vector (3 entries): \n",
      " [7 6 5] \n",
      " Tensor(\"Const_16:0\", shape=(3,), dtype=int32) \n",
      "\n",
      "Matrix (3x3 entries): \n",
      " [[1 2 3]\n",
      " [4 5 6]\n",
      " [7 8 9]] \n",
      " Tensor(\"Const_17:0\", shape=(3, 3), dtype=int32) \n",
      "\n",
      "Tensor (3x3x3 entries): \n",
      " [[[1 2 3]\n",
      "  [2 3 4]\n",
      "  [3 4 5]]\n",
      "\n",
      " [[4 5 6]\n",
      "  [5 6 7]\n",
      "  [6 7 8]]\n",
      "\n",
      " [[7 8 9]\n",
      "  [8 9 1]\n",
      "  [9 1 2]]] \n",
      " Tensor(\"Const_18:0\", shape=(3, 3, 3), dtype=int32) \n",
      "\n"
     ]
    }
   ],
   "source": [
    "scalar = tf.constant([2])\n",
    "\n",
    "vector = tf.constant([7, 6, 5])\n",
    "\n",
    "matrix = tf.constant([[1, 2, 3], [4, 5, 6], [7, 8, 9]])\n",
    "\n",
    "tensor = tf.constant([[[1, 2, 3], [2, 3, 4], [3, 4, 5]], \n",
    "                      [[4, 5, 6], [5, 6, 7], [6, 7, 8]], \n",
    "                      [[7, 8, 9], [8, 9, 1], [9, 1, 2]]])\n",
    "\n",
    "with tf.Session() as session:\n",
    "    result = session.run(scalar)\n",
    "    print(\"Scalar (1 entry): \\n {0} \\n {1} \\n\".format(result, scalar))\n",
    "    result = session.run(vector)\n",
    "    print(\"Vector (3 entries): \\n {0} \\n {1} \\n\".format(result, vector))\n",
    "    result = session.run(matrix)\n",
    "    print(\"Matrix (3x3 entries): \\n {0} \\n {1} \\n\".format(result, matrix))\n",
    "    result = session.run(tensor)\n",
    "    print(\"Tensor (3x3x3 entries): \\n {0} \\n {1} \\n\".format(result, tensor))"
   ]
  },
  {
   "cell_type": "code",
   "execution_count": 76,
   "metadata": {},
   "outputs": [
    {
     "name": "stdout",
     "output_type": "stream",
     "text": [
      "[[2 3 4]\n",
      " [3 4 5]\n",
      " [4 5 6]] \n",
      "\n",
      "[[2 3 4]\n",
      " [3 4 5]\n",
      " [4 5 6]]\n"
     ]
    }
   ],
   "source": [
    "matrix_one = tf.constant([[1, 2, 3], [2, 3, 4], [3, 4, 5]])\n",
    "matrix_two = tf.constant([[1, 1, 1], [1, 1, 1], [1, 1, 1]])\n",
    "\n",
    "first_addition = tf.add(matrix_one, matrix_two)\n",
    "second_addition = matrix_one + matrix_two\n",
    "\n",
    "with tf.Session() as session:\n",
    "    result = session.run(first_addition)\n",
    "    print(result, \"\\n\")\n",
    "    result = session.run(second_addition)\n",
    "    print(result)"
   ]
  },
  {
   "cell_type": "code",
   "execution_count": 77,
   "metadata": {},
   "outputs": [
    {
     "name": "stdout",
     "output_type": "stream",
     "text": [
      "Element-wise multiplication 1: \n",
      " [[1 2 3]\n",
      " [2 3 4]\n",
      " [3 4 5]]\n",
      "Element-wise multiplication 2: \n",
      " [[1 2 3]\n",
      " [2 3 4]\n",
      " [3 4 5]]\n",
      "Matrix multiplication: \n",
      " [[ 6  6  6]\n",
      " [ 9  9  9]\n",
      " [12 12 12]]\n"
     ]
    }
   ],
   "source": [
    "first_multiplication = tf.multiply(matrix_one, matrix_two)\n",
    "second_multiplication = tf.multiply(matrix_one, matrix_two)\n",
    "third_multiplication = tf.matmul(matrix_one, matrix_two)\n",
    "\n",
    "with tf.Session() as session:\n",
    "    result = session.run(first_multiplication)\n",
    "    print(\"Element-wise multiplication 1: \\n\", result)\n",
    "    result = session.run(second_multiplication)\n",
    "    print(\"Element-wise multiplication 2: \\n\", result)\n",
    "    result = session.run(third_multiplication)\n",
    "    print(\"Matrix multiplication: \\n\", result)"
   ]
  },
  {
   "cell_type": "markdown",
   "metadata": {},
   "source": [
    "## Variables"
   ]
  },
  {
   "cell_type": "markdown",
   "metadata": {},
   "source": [
    "A TensorFlow variable is the best way to represent shared, persistent state manipulated by your program. A **tf.Variable()** represents a tensor whose value can be changed by running ops on it. Tensorflow variables are **mutable**. Variables once created, needs to be initialized before running the graph session. \n",
    "\n",
    "The following code demonstrate how to create and initialize a vaiable in Tensorflow."
   ]
  },
  {
   "cell_type": "code",
   "execution_count": 78,
   "metadata": {},
   "outputs": [
    {
     "name": "stdout",
     "output_type": "stream",
     "text": [
      "<class 'tensorflow.python.ops.variables.Variable'>\n"
     ]
    }
   ],
   "source": [
    "#create a variable with initial value 0\n",
    "state = tf.Variable(0)\n",
    "print(type(state))"
   ]
  },
  {
   "cell_type": "code",
   "execution_count": 79,
   "metadata": {},
   "outputs": [],
   "source": [
    "one = tf.constant(1)\n",
    "\n",
    "#create a new vaue by adding constant one to variable state\n",
    "new_value = tf.add(state, one)\n",
    "\n",
    "#update the state variable with new_value\n",
    "update = tf.assign(state, new_value)"
   ]
  },
  {
   "cell_type": "markdown",
   "metadata": {},
   "source": [
    "Variables are initialized by calling the function **tf.global_variables_initializer()**"
   ]
  },
  {
   "cell_type": "code",
   "execution_count": 80,
   "metadata": {},
   "outputs": [],
   "source": [
    "init_op = tf.global_variables_initializer()"
   ]
  },
  {
   "cell_type": "code",
   "execution_count": 81,
   "metadata": {},
   "outputs": [
    {
     "name": "stdout",
     "output_type": "stream",
     "text": [
      "Initial state:  0\n",
      "State after next update:  1\n",
      "State after next update:  2\n",
      "State after next update:  3\n",
      "State after next update:  4\n"
     ]
    }
   ],
   "source": [
    "with tf.Session() as session:\n",
    "    session.run(init_op)\n",
    "    print(\"Initial state: \", session.run(state))\n",
    "    for _ in range(4):\n",
    "        session.run(update)\n",
    "        print(\"State after next update: \", session.run(state))"
   ]
  },
  {
   "cell_type": "markdown",
   "metadata": {},
   "source": [
    "## Placeholder"
   ]
  },
  {
   "cell_type": "markdown",
   "metadata": {},
   "source": [
    "Tensorflow placeholders act as placefolders for a tensor to which data needs to be fed. These are like \"holes\" in the model that need to be filled with data.\n",
    "\n",
    "In the following code we create a placeholder (*hole* a) and use it inside a model (operation b = a * 2)."
   ]
  },
  {
   "cell_type": "code",
   "execution_count": 82,
   "metadata": {},
   "outputs": [],
   "source": [
    "a = tf.placeholder(tf.float32)"
   ]
  },
  {
   "cell_type": "code",
   "execution_count": 83,
   "metadata": {},
   "outputs": [],
   "source": [
    "b = a * 2"
   ]
  },
  {
   "cell_type": "markdown",
   "metadata": {},
   "source": [
    "This hole needs to be filled with data before running otherwise it would throw an error. We can fill the placeholder with data using **feed_dict** dictionaries as parameters within **run**."
   ]
  },
  {
   "cell_type": "code",
   "execution_count": 84,
   "metadata": {},
   "outputs": [
    {
     "name": "stdout",
     "output_type": "stream",
     "text": [
      "5.0\n"
     ]
    }
   ],
   "source": [
    "with tf.Session() as sess:\n",
    "    feed_dict = {a : 2.5}\n",
    "    result = sess.run(b,feed_dict=feed_dict)\n",
    "    print (result)"
   ]
  },
  {
   "cell_type": "code",
   "execution_count": 85,
   "metadata": {},
   "outputs": [
    {
     "name": "stdout",
     "output_type": "stream",
     "text": [
      "[[[  2.   4.   6.]\n",
      "  [  8.  10.  12.]\n",
      "  [ 14.  16.  18.]\n",
      "  [ 20.  22.  24.]]\n",
      "\n",
      " [[ 26.  28.  30.]\n",
      "  [ 32.  34.  36.]\n",
      "  [ 38.  40.  42.]\n",
      "  [ 44.  46.  48.]]]\n"
     ]
    }
   ],
   "source": [
    "dictionary={a: [ [ [1,2,3],[4,5,6],[7,8,9],[10,11,12] ] , [ [13,14,15],[16,17,18],[19,20,21],[22,23,24] ] ] }\n",
    "\n",
    "with tf.Session() as sess:\n",
    "    result = sess.run(b,feed_dict=dictionary)\n",
    "    print (result)"
   ]
  },
  {
   "cell_type": "code",
   "execution_count": 86,
   "metadata": {},
   "outputs": [],
   "source": [
    "import numpy as np"
   ]
  },
  {
   "cell_type": "code",
   "execution_count": 87,
   "metadata": {},
   "outputs": [
    {
     "name": "stdout",
     "output_type": "stream",
     "text": [
      "[[4 4 3]\n",
      " [3 0 1]\n",
      " [3 1 2]] \n",
      "\n",
      "[[37 19 22]\n",
      " [15 13 11]\n",
      " [21 14 14]]\n",
      "(3, 3) <class 'tensorflow.python.framework.ops.Tensor'>\n"
     ]
    }
   ],
   "source": [
    "x = tf.placeholder(tf.int32, shape=(3, 3))\n",
    "y = tf.matmul(x, x)\n",
    "\n",
    "with tf.Session() as sess:\n",
    "    #print(sess.run(y))  #ERROR: will fail because x was not fed with data.\n",
    "    \n",
    "    rand_array = np.random.randint(5, size = (3, 3))\n",
    "    print(rand_array, \"\\n\")\n",
    "    print(sess.run(y, feed_dict={x: rand_array}))\n",
    "    print(y.shape, type(y))"
   ]
  },
  {
   "cell_type": "code",
   "execution_count": null,
   "metadata": {},
   "outputs": [],
   "source": []
  },
  {
   "cell_type": "code",
   "execution_count": null,
   "metadata": {},
   "outputs": [],
   "source": []
  }
 ],
 "metadata": {
  "kernelspec": {
   "display_name": "Python 3",
   "language": "python",
   "name": "python3"
  },
  "language_info": {
   "codemirror_mode": {
    "name": "ipython",
    "version": 3
   },
   "file_extension": ".py",
   "mimetype": "text/x-python",
   "name": "python",
   "nbconvert_exporter": "python",
   "pygments_lexer": "ipython3",
   "version": "3.6.3"
  }
 },
 "nbformat": 4,
 "nbformat_minor": 2
}
